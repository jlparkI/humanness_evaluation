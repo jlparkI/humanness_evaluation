{
 "cells": [
  {
   "cell_type": "markdown",
   "id": "d92dfa15-65a3-4191-a4d7-6725cc039acb",
   "metadata": {},
   "source": [
    "### VDJ recombination statistics\n",
    "\n",
    "Assesses correlations between VDJ recombination and cluster assignment."
   ]
  },
  {
   "cell_type": "code",
   "execution_count": 1,
   "id": "f427f573-c96c-49c4-8cbe-e88816b09ab5",
   "metadata": {},
   "outputs": [],
   "source": [
    "import os\n",
    "import copy\n",
    "import matplotlib.pyplot as plt\n",
    "import seaborn as sns\n",
    "import numpy as np\n",
    "import pandas as pd\n",
    "from Bio import SeqIO\n",
    "from antpack import SingleChainAnnotator, SequenceScoringTool\n",
    "\n",
    "aligner = SingleChainAnnotator(chains=[\"H\", \"K\", \"L\"], scheme = \"imgt\")\n",
    "\n",
    "if \"notebooks\" in os.getcwd():\n",
    "    current_dir = os.path.join(os.getcwd(), \"..\", \"..\")\n",
    "\n",
    "score_tool = SequenceScoringTool()\n",
    "\n",
    "os.chdir(current_dir)\n",
    "tt_dir = [f for f in os.listdir() if f.startswith(\"train_test_data_immunogenicity\")]\n",
    "if len(tt_dir) != 1:\n",
    "    raise ValueError(\"Data not downloaded yet, or multiple versions of data downloaded.\")\n",
    "\n",
    "tt_dir = tt_dir[0]\n",
    "\n",
    "os.chdir(os.path.join(current_dir, tt_dir, \"vdj_statistics_eval\"))"
   ]
  },
  {
   "cell_type": "code",
   "execution_count": 2,
   "id": "a87a6ea0-560f-4a9e-b302-e181b7484268",
   "metadata": {},
   "outputs": [],
   "source": [
    "def get_contingency_table(v1, v2):\n",
    "    \"\"\"Generates a 2d contingency table for two lists of nominal variables.\"\"\"\n",
    "    v1_dict, v2_dict = {}, {}\n",
    "    v1_counter, v2_counter = 0, 0\n",
    "    \n",
    "    for v1_item, v2_item in zip(v1, v2):\n",
    "        if v1_item not in v1_dict:\n",
    "            v1_dict[v1_item] = v1_counter\n",
    "            v1_counter += 1\n",
    "        if v2_item not in v2_dict:\n",
    "            v2_dict[v2_item] = v2_counter\n",
    "            v2_counter += 1\n",
    "\n",
    "    contingency_table = np.zeros((len(v1_dict), len(v2_dict)), dtype=np.int32)\n",
    "    for v1_item, v2_item in zip(v1, v2):\n",
    "        contingency_table[v1_dict[v1_item], v2_dict[v2_item]] += 1\n",
    "\n",
    "    return contingency_table"
   ]
  },
  {
   "cell_type": "code",
   "execution_count": null,
   "id": "6c5a63df-db79-4fe9-84a0-4ea5d2acb7ce",
   "metadata": {},
   "outputs": [],
   "source": []
  },
  {
   "cell_type": "code",
   "execution_count": 3,
   "id": "231835ff-f9d2-4f25-9bcc-236efc72abca",
   "metadata": {},
   "outputs": [
    {
     "name": "stderr",
     "output_type": "stream",
     "text": [
      "/tmp/ipykernel_195402/1648468156.py:1: DtypeWarning: Columns (29,36,42) have mixed types. Specify dtype option on import or set low_memory=False.\n",
      "  heavy = pd.read_csv(\"heavy_cab_vdj_assigned.csv.gz\")\n"
     ]
    }
   ],
   "source": [
    "heavy = pd.read_csv(\"heavy_cab_vdj_assigned.csv.gz\")\n",
    "light = pd.read_csv(\"light_cab_vdj_assigned.csv.gz\")\n",
    "#Sequences that contain nonstandard AAs (e.g. *) cannot be scored by SAM and hence have nan scores.\n",
    "#There are only a few dozen of these.\n",
    "heavy = heavy.loc[~heavy.SAM_cluster_weighted.isna(),:]\n",
    "light = light.loc[~light.SAM_cluster_weighted.isna(),:]"
   ]
  },
  {
   "cell_type": "code",
   "execution_count": 4,
   "id": "d93e7fb0-d9e3-4950-9c22-b58abb10f1c7",
   "metadata": {},
   "outputs": [],
   "source": [
    "heavy[\"v_family\"] = [v.split(\"-\")[0] for v in heavy.v_gene]\n",
    "light[\"v_family\"] = [v.split(\"-\")[0] for v in light.v_gene]"
   ]
  },
  {
   "cell_type": "code",
   "execution_count": 5,
   "id": "61e2e6a1-454e-432a-9d69-a2871d2446d4",
   "metadata": {},
   "outputs": [],
   "source": [
    "hvfamily = get_contingency_table(heavy.v_family.tolist(), heavy.SAM_cluster_weighted.astype(np.int32).tolist())\n",
    "hvgene = get_contingency_table(heavy.v_gene.tolist(), heavy.SAM_cluster_weighted.astype(np.int32).tolist())"
   ]
  },
  {
   "cell_type": "code",
   "execution_count": 6,
   "id": "243ccf23-af1a-4a94-beb0-67b3c9e01cab",
   "metadata": {},
   "outputs": [
    {
     "name": "stdout",
     "output_type": "stream",
     "text": [
      "0.9998671417124277\n",
      "0.7799582860214327\n"
     ]
    }
   ],
   "source": [
    "from scipy.stats.contingency import association\n",
    "\n",
    "print(association(hvfamily))\n",
    "print(association(hvgene))"
   ]
  },
  {
   "cell_type": "code",
   "execution_count": 7,
   "id": "77721b96-ba33-4d5e-a887-937bcedd4835",
   "metadata": {},
   "outputs": [],
   "source": [
    "lvfamily = get_contingency_table(light.v_family.tolist(), light.SAM_cluster_weighted.astype(np.int32).tolist())\n",
    "lvgene = get_contingency_table(light.v_gene.tolist(), light.SAM_cluster_weighted.astype(np.int32).tolist())"
   ]
  },
  {
   "cell_type": "code",
   "execution_count": 8,
   "id": "e35555ef-93f8-42d7-85e5-5f95acabcadd",
   "metadata": {},
   "outputs": [
    {
     "name": "stdout",
     "output_type": "stream",
     "text": [
      "0.9976540045213792\n",
      "0.9571492039456065\n"
     ]
    }
   ],
   "source": [
    "print(association(lvfamily))\n",
    "print(association(lvgene))"
   ]
  },
  {
   "cell_type": "code",
   "execution_count": 9,
   "id": "820f380a-9299-4d6a-a5bf-c63bcff19fff",
   "metadata": {},
   "outputs": [],
   "source": [
    "hjgene = get_contingency_table(heavy.j_gene.tolist(), heavy.SAM_cluster_weighted.astype(np.int32).tolist())\n",
    "ljgene = get_contingency_table(light.j_gene.tolist(), light.SAM_cluster_weighted.astype(np.int32).tolist())"
   ]
  },
  {
   "cell_type": "code",
   "execution_count": 10,
   "id": "88138173-c04d-409b-bfe3-c6f495dece32",
   "metadata": {},
   "outputs": [
    {
     "name": "stdout",
     "output_type": "stream",
     "text": [
      "0.418588663165082\n",
      "0.5320739391830961\n"
     ]
    }
   ],
   "source": [
    "print(association(hjgene))\n",
    "print(association(ljgene))"
   ]
  },
  {
   "cell_type": "code",
   "execution_count": null,
   "id": "2242c8f6-8868-4b22-b20b-9ab092041225",
   "metadata": {},
   "outputs": [],
   "source": []
  }
 ],
 "metadata": {
  "kernelspec": {
   "display_name": "Python 3 (ipykernel)",
   "language": "python",
   "name": "python3"
  },
  "language_info": {
   "codemirror_mode": {
    "name": "ipython",
    "version": 3
   },
   "file_extension": ".py",
   "mimetype": "text/x-python",
   "name": "python",
   "nbconvert_exporter": "python",
   "pygments_lexer": "ipython3",
   "version": "3.10.12"
  }
 },
 "nbformat": 4,
 "nbformat_minor": 5
}
