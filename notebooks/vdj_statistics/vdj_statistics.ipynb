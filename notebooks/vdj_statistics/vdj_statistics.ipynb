{
 "cells": [
  {
   "cell_type": "markdown",
   "id": "d92dfa15-65a3-4191-a4d7-6725cc039acb",
   "metadata": {},
   "source": [
    "### VDJ recombination statistics"
   ]
  },
  {
   "cell_type": "code",
   "execution_count": 1,
   "id": "f427f573-c96c-49c4-8cbe-e88816b09ab5",
   "metadata": {},
   "outputs": [],
   "source": [
    "import os\n",
    "import copy\n",
    "import matplotlib.pyplot as plt\n",
    "import seaborn as sns\n",
    "import numpy as np\n",
    "import pandas as pd\n",
    "from Bio import SeqIO\n",
    "from antpack import SingleChainAnnotator, SequenceScoringTool\n",
    "\n",
    "aligner = SingleChainAnnotator(chains=[\"H\", \"K\", \"L\"], scheme = \"imgt\")\n",
    "\n",
    "if \"notebooks\" in os.getcwd():\n",
    "    current_dir = os.path.join(os.getcwd(), \"..\", \"..\")\n",
    "\n",
    "score_tool = SequenceScoringTool()\n",
    "\n",
    "os.chdir(current_dir)\n",
    "    \n",
    "if \"humanization_test_data\" not in os.getcwd():\n",
    "    os.chdir(os.path.join(current_dir, \"humanization_test_data\"))"
   ]
  },
  {
   "cell_type": "code",
   "execution_count": 2,
   "id": "231835ff-f9d2-4f25-9bcc-236efc72abca",
   "metadata": {},
   "outputs": [],
   "source": [
    "raw = pd.read_csv(\"immunesim_50k_default.csv\")"
   ]
  },
  {
   "cell_type": "code",
   "execution_count": 4,
   "id": "4ba97b6b-8321-4ec0-8a3c-fb2debe56960",
   "metadata": {},
   "outputs": [
    {
     "data": {
      "text/plain": [
       "Index(['sequence', 'sequence_aa', 'junction', 'junction_aa', 'v_call',\n",
       "       'd_call', 'j_call', 'np1', 'np2', 'del_v', 'del_d_5', 'del_d_3',\n",
       "       'del_j', 'v_sequence_alignment', 'd_sequence_alignment',\n",
       "       'j_sequence_alignment', 'freqs', 'counts', 'shm_events',\n",
       "       'name_repertoire'],\n",
       "      dtype='object')"
      ]
     },
     "execution_count": 4,
     "metadata": {},
     "output_type": "execute_result"
    }
   ],
   "source": [
    "raw.columns"
   ]
  },
  {
   "cell_type": "code",
   "execution_count": null,
   "id": "cc5c4a40-b0c2-4ce0-b9cd-501595c3ddad",
   "metadata": {},
   "outputs": [],
   "source": []
  }
 ],
 "metadata": {
  "kernelspec": {
   "display_name": "Python 3 (ipykernel)",
   "language": "python",
   "name": "python3"
  },
  "language_info": {
   "codemirror_mode": {
    "name": "ipython",
    "version": 3
   },
   "file_extension": ".py",
   "mimetype": "text/x-python",
   "name": "python",
   "nbconvert_exporter": "python",
   "pygments_lexer": "ipython3",
   "version": "3.10.12"
  }
 },
 "nbformat": 4,
 "nbformat_minor": 5
}
