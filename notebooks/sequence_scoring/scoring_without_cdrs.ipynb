{
 "cells": [
  {
   "cell_type": "markdown",
   "id": "2fe908f4-205a-43f0-bb8c-b668a4295fc3",
   "metadata": {},
   "source": [
    "### Scoring without CDRs\n",
    "It is possible to score with AntPack while masking out or disregarding user-specified regions of\n",
    "the sequence. This notebook generates scores using a variety of different masks and examines the\n",
    "results. Note that scoring using all of the available masks will take a little time, and then\n",
    "bootstrapping CIs on the AUC-ROC scores is also moderately time-consuming, so you should expect\n",
    "this notebook to take a few minutes to run."
   ]
  },
  {
   "cell_type": "code",
   "execution_count": 20,
   "id": "934b9323-cb47-4dda-b420-edaae8457030",
   "metadata": {},
   "outputs": [],
   "source": [
    "import os\n",
    "import matplotlib.pyplot as plt\n",
    "import seaborn as sns\n",
    "import numpy as np\n",
    "import pandas as pd\n",
    "from Bio import SeqIO\n",
    "from sklearn.metrics import roc_auc_score\n",
    "from antpack import SequenceScoringTool, SingleChainAnnotator\n",
    "\n",
    "if \"notebooks\" in os.getcwd():\n",
    "    os.chdir(os.path.join(\"..\", \"..\"))\n",
    "    current_dir = os.getcwd()\n",
    "\n",
    "score_tool = SequenceScoringTool(offer_classifier_option = True)\n",
    "sc_annotator = SingleChainAnnotator()\n",
    "\n",
    "os.chdir(current_dir)"
   ]
  },
  {
   "cell_type": "markdown",
   "id": "db91de6f-dc9e-4c1a-a9bc-a979ad273bf2",
   "metadata": {},
   "source": [
    "We use IMGT definitions of CDRs to create masks for CDR 3 only,\n",
    "CDR3 + CDR2, or all three CDRs for each chain. These masks are then used for masked scoring\n",
    "(calculating the score with and without the masked regions)."
   ]
  },
  {
   "cell_type": "code",
   "execution_count": 6,
   "id": "6268cc6c-0aa6-46ab-9cc0-f1908f1aa502",
   "metadata": {},
   "outputs": [],
   "source": [
    "imgt = {  \"heavy\":{\"3\":{'105', '106', '107', '108', '109', '110', '111', '111A', '111B', '111C', '111D', '111E', '111F', '111G',\n",
    "                        '111H', '111I', '111J', '111K', '112L', '112K', '112J', '112I', '112H', '112G', '112F', '112E',\n",
    "                        '112D', '112C', '112B', '112A', '112', '113', '114', '115', '116', '117'},\n",
    "                    \"2\":{'56', '57', '58', '59', '60', '60A', '60B', '60C', '60D', '60E', '61E', '61D', '61C', '61B', '61A', '61',\n",
    "                         '62', '63', '64', '65'},\n",
    "                    \"1\":{'27', '28', '29', '30', '31', '32', '32A', '32B', '32C', '33C', '33B', '33A',\n",
    "                         '33', '34', '35', '36', '37', '38'}\n",
    "                    },\n",
    "         \"light\":{  \"3\":{'105', '106', '107', '108', '109', '110', '111', '111A', '111B', '111C', '111D', '112D', '112C', '112B', '112A',\n",
    "                         '112', '113', '114', '115', '116', '117'},\n",
    "                    \"2\":{'56', '57', '58', '59', '60', '61', '62', '63', '64', '65'},\n",
    "                    \"1\":{'27', '28', '29', '30', '31', '32', '32A', '32B', '33B', '33A', '33', '34', '35', '36',\n",
    "                        '37', '38'}\n",
    "                 }\n",
    "        }"
   ]
  },
  {
   "cell_type": "markdown",
   "id": "8d33a421-2d44-4249-bf64-046998f9cb32",
   "metadata": {},
   "source": [
    "The next function scores a batch of sequences using various masks."
   ]
  },
  {
   "cell_type": "code",
   "execution_count": 11,
   "id": "911df049-cb43-4b89-930a-33a5109c7fc2",
   "metadata": {},
   "outputs": [],
   "source": [
    "def score_sequence_group(seqs, chain, imgt_mask_grps, scoring_tool, annotation_tool):\n",
    "    chain_map = {\"heavy\":\"H\", \"light\":\"L\"}\n",
    "    numberings = [t[0] for t in annotation_tool.analyze_online_seqs(seqs) ]\n",
    "    chain_types = [chain_map[chain] for a in numberings]\n",
    "\n",
    "    scores, mask_categories = [], []\n",
    "    \n",
    "    for grp in [[\"3\"], [\"3\", \"2\"], [\"3\", \"2\", \"1\"], []]:\n",
    "        print(f\"{chain}, {grp}\")\n",
    "        if len(grp) == 0:\n",
    "            grp_key = \"masked_gaps\"\n",
    "        else:\n",
    "            grp_key = f\"cdr_{'_'.join(grp)}_masked\"\n",
    "\n",
    "        imgt_mask_set = set()\n",
    "        for key in grp:\n",
    "            for position in imgt_mask_grps[chain][key]:\n",
    "                imgt_mask_set.add(position)\n",
    "\n",
    "        masks = [[True if a not in imgt_mask_set else False for a in numbering] for\n",
    "                 numbering in numberings]\n",
    "\n",
    "        scores += scoring_tool.score_masked_sequences(seqs, chain_types, numberings, masks).tolist()\n",
    "        mask_categories += [grp_key for a in numberings]\n",
    "\n",
    "    scores += scoring_tool.batch_score_seqs(seqs).tolist()\n",
    "    mask_categories += [\"no_mask\" for a in numberings]\n",
    "    return scores, mask_categories"
   ]
  },
  {
   "cell_type": "markdown",
   "id": "b11a5d9a-86f2-4d19-a919-ce457dd47a4b",
   "metadata": {},
   "source": [
    "We now run the above function on each batch of 50,000 sequences in the test set. There are 450,000 sequences in\n",
    "all and we are scoring them using 5 different settings, so this will take a few minutes."
   ]
  },
  {
   "cell_type": "code",
   "execution_count": 13,
   "id": "56850d4a-d6c3-4c55-8a30-c07275888af0",
   "metadata": {},
   "outputs": [
    {
     "name": "stdout",
     "output_type": "stream",
     "text": [
      "test_subsample_camel.fasta\n",
      "heavy, ['3']\n",
      "heavy, ['3', '2']\n",
      "heavy, ['3', '2', '1']\n",
      "heavy, []\n",
      "test_subsample_human.fasta\n",
      "heavy, ['3']\n",
      "heavy, ['3', '2']\n",
      "heavy, ['3', '2', '1']\n",
      "heavy, []\n",
      "test_subsample_mouse_balbc.fasta\n",
      "heavy, ['3']\n",
      "heavy, ['3', '2']\n",
      "heavy, ['3', '2', '1']\n",
      "heavy, []\n",
      "test_subsample_mouse_c576.fasta\n",
      "heavy, ['3']\n",
      "heavy, ['3', '2']\n",
      "heavy, ['3', '2', '1']\n",
      "heavy, []\n",
      "test_subsample_rabbit.fasta\n",
      "heavy, ['3']\n",
      "heavy, ['3', '2']\n",
      "heavy, ['3', '2', '1']\n",
      "heavy, []\n",
      "test_subsample_rat.fasta\n",
      "heavy, ['3']\n",
      "heavy, ['3', '2']\n",
      "heavy, ['3', '2', '1']\n",
      "heavy, []\n",
      "test_subsample_rhesus.fasta\n",
      "heavy, ['3']\n",
      "heavy, ['3', '2']\n",
      "heavy, ['3', '2', '1']\n",
      "heavy, []\n",
      "test_subsample_human.fasta\n",
      "light, ['3']\n",
      "light, ['3', '2']\n",
      "light, ['3', '2', '1']\n",
      "light, []\n",
      "test_subsample_mouse_balbc.fasta\n",
      "light, ['3']\n",
      "light, ['3', '2']\n",
      "light, ['3', '2', '1']\n",
      "light, []\n",
      "test_subsample_rhesus.fasta\n",
      "light, ['3']\n",
      "light, ['3', '2']\n",
      "light, ['3', '2', '1']\n",
      "light, []\n"
     ]
    }
   ],
   "source": [
    "if \"results_and_resources\" not in os.getcwd():\n",
    "    os.chdir(os.path.join(current_dir, \"results_and_resources\"))\n",
    "\n",
    "\n",
    "scoring = { chain:{\"scores\":[], \"species\":[], \"labels\":[], \"mask_codes\":[]} for chain in [\"heavy\", \"light\"]  }\n",
    "\n",
    "\n",
    "for chain in [\"heavy\", \"light\"]:\n",
    "    os.chdir(os.path.join(current_dir, \"train_test_data_immunogenicity_0.0.1\", f\"{chain}_chain\", \"test_sample_sequences\"))\n",
    "    flist = [f for f in os.listdir() if f.endswith(\"fasta\")]\n",
    "    flist = sorted(flist)\n",
    "\n",
    "    for fname in flist:\n",
    "        print(fname)\n",
    "        with open(fname, \"r\") as fhandle:\n",
    "            slist = [str(s.seq) for s in SeqIO.parse(fhandle, \"fasta\")]\n",
    "\n",
    "        scores, mask_cats = score_sequence_group(slist, chain, imgt, score_tool, sc_annotator)\n",
    "        \n",
    "        species = fname.split(\".fasta\")[0].split(\"test_subsample_\")[1]\n",
    "        scoring[chain][\"species\"] += [species for s in scores]\n",
    "        scoring[chain][\"scores\"] += scores\n",
    "        scoring[chain][\"mask_codes\"] += mask_cats\n",
    "\n",
    "        if species == \"human\":\n",
    "            scoring[chain][\"labels\"] += np.ones((len(scores))).tolist()\n",
    "        else:\n",
    "            scoring[chain][\"labels\"] += np.zeros((len(scores))).tolist()"
   ]
  },
  {
   "cell_type": "code",
   "execution_count": 16,
   "id": "97d146c9-ebb1-48d8-ace9-ad3e5b45a6bf",
   "metadata": {},
   "outputs": [],
   "source": [
    "dfs = {h:pd.DataFrame.from_dict(d) for (h,d) in scoring.items()}"
   ]
  },
  {
   "cell_type": "code",
   "execution_count": 18,
   "id": "ad821c53-d251-43af-8ad6-9d76c7a3b28b",
   "metadata": {},
   "outputs": [
    {
     "data": {
      "text/plain": [
       "Index(['scores', 'species', 'labels', 'mask_codes'], dtype='object')"
      ]
     },
     "execution_count": 18,
     "metadata": {},
     "output_type": "execute_result"
    }
   ],
   "source": [
    "dfs[\"heavy\"].columns"
   ]
  },
  {
   "cell_type": "code",
   "execution_count": 21,
   "id": "b4505212-d1da-4dae-9ba3-bdd45d3e501e",
   "metadata": {},
   "outputs": [
    {
     "name": "stdout",
     "output_type": "stream",
     "text": [
      "AUC-ROC results, chain heavy\n",
      "cdr_3_masked:\t0.9612810037607522\tLCB: 0.9604965088933722\tUCB:0.9621391917495131\n",
      "cdr_3_2_masked:\t0.9522230389277856\tLCB: 0.9512787597344369\tUCB:0.9531633610382578\n",
      "cdr_3_2_1_masked:\t0.9481899895579116\tLCB: 0.9472384488185612\tUCB:0.9491129788244127\n",
      "masked_gaps:\t0.9482035412682537\tLCB: 0.9472351062897556\tUCB:0.9492004768419419\n",
      "no_mask:\t0.9537544028005602\tLCB: 0.9528452277390939\tUCB:0.9547312741157983\n",
      "\n",
      "\n",
      "AUC-ROC results, chain light\n",
      "cdr_3_masked:\t0.9451390896231235\tLCB: 0.9439934772303273\tUCB:0.9462360475136109\n",
      "cdr_3_2_masked:\t0.9450598258410052\tLCB: 0.9438855849146923\tUCB:0.9461759440970852\n",
      "cdr_3_2_1_masked:\t0.9459188170352941\tLCB: 0.9447083063865196\tUCB:0.947024660736701\n",
      "masked_gaps:\t0.9474444009185896\tLCB: 0.946274402015722\tUCB:0.9485542969490786\n",
      "no_mask:\t0.9482599997943796\tLCB: 0.9471203449587161\tUCB:0.9493557608590446\n",
      "\n",
      "\n"
     ]
    }
   ],
   "source": [
    "combined_results = {\"mask\":[], \"chain\":[], \"AUC-ROC\":[], \"AUC-ROC_LCB\":[], \"AUC-ROC_UCB\":[]}\n",
    "\n",
    "for chain in [\"heavy\", \"light\"]:\n",
    "    print(f\"AUC-ROC results, chain {chain}\")\n",
    "    df = dfs[chain]\n",
    "\n",
    "    for mask in df.mask_codes.unique():\n",
    "        subset = df[df[\"mask_codes\"] == mask]\n",
    "        auc_values = []\n",
    "        gt_scores = subset[\"labels\"].values\n",
    "        input_scores = subset[\"scores\"].values\n",
    "        rng = np.random.default_rng(123)\n",
    "\n",
    "        for i in range(1000):\n",
    "            idx = rng.choice(gt_scores.shape[0], gt_scores.shape[0])\n",
    "            auc_values.append(roc_auc_score(gt_scores[idx], input_scores[idx]))\n",
    "\n",
    "        auc_values = np.sort(np.array(auc_values))\n",
    "        score = roc_auc_score(gt_scores, input_scores)\n",
    "        combined_results[\"mask\"].append(mask)\n",
    "        combined_results[\"chain\"].append(chain)\n",
    "        combined_results[\"AUC-ROC\"].append(roc_auc_score(gt_scores, input_scores))\n",
    "        combined_results[\"AUC-ROC_LCB\"].append(auc_values[25])\n",
    "        combined_results[\"AUC-ROC_UCB\"].append(auc_values[975])\n",
    "\n",
    "        print(f\"{mask}:\\t{score}\\tLCB: {auc_values[25]}\\tUCB:{auc_values[975]}\")\n",
    "\n",
    "    print(\"\\n\")"
   ]
  },
  {
   "cell_type": "code",
   "execution_count": null,
   "id": "25bca850-f4c7-4284-b8b3-f3a0cbdff60f",
   "metadata": {},
   "outputs": [],
   "source": []
  }
 ],
 "metadata": {
  "kernelspec": {
   "display_name": "Python 3 (ipykernel)",
   "language": "python",
   "name": "python3"
  },
  "language_info": {
   "codemirror_mode": {
    "name": "ipython",
    "version": 3
   },
   "file_extension": ".py",
   "mimetype": "text/x-python",
   "name": "python",
   "nbconvert_exporter": "python",
   "pygments_lexer": "ipython3",
   "version": "3.10.12"
  }
 },
 "nbformat": 4,
 "nbformat_minor": 5
}
